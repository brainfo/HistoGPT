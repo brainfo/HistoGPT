{
 "cells": [
  {
   "cell_type": "code",
   "execution_count": null,
   "metadata": {
    "colab": {
     "base_uri": "https://localhost:8080/"
    },
    "executionInfo": {
     "elapsed": 3084,
     "status": "ok",
     "timestamp": 1710529068311,
     "user": {
      "displayName": "Haise Sasaki",
      "userId": "11501185577084592222"
     },
     "user_tz": -60
    },
    "id": "wKuH-u8KHDYX",
    "outputId": "57d4e6ee-24a6-4bdc-f932-aafe673904a5"
   },
   "outputs": [],
   "source": [
    "# check whether to use a gpu or cpu\n",
    "import torch\n",
    "\n",
    "device = torch.device('cuda' if torch.cuda.is_available() else 'cpu')\n",
    "print(device)"
   ]
  },
  {
   "cell_type": "markdown",
   "metadata": {
    "id": "ziXj33E5GuCq"
   },
   "source": [
    "# Simple examples"
   ]
  },
  {
   "cell_type": "code",
   "execution_count": null,
   "metadata": {
    "colab": {
     "base_uri": "https://localhost:8080/"
    },
    "executionInfo": {
     "elapsed": 35784,
     "status": "ok",
     "timestamp": 1710529108270,
     "user": {
      "displayName": "Haise Sasaki",
      "userId": "11501185577084592222"
     },
     "user_tz": -60
    },
    "id": "B8yzhRcy9Bue",
    "outputId": "04e52d8e-1c52-4675-f3bb-2173ae845d7b"
   },
   "outputs": [],
   "source": [
    "# make a forward pass through the model\n",
    "from transformers import BioGptConfig\n",
    "from histogpt.models import HistoGPTForCausalLM, PerceiverResamplerConfig\n",
    "\n",
    "histogpt = HistoGPTForCausalLM(BioGptConfig(), PerceiverResamplerConfig())\n",
    "histogpt = histogpt.to(device)\n",
    "\n",
    "text = torch.randint(0, 42384, (1, 256)).to(device)\n",
    "image = torch.rand(1, 1024, 768).to(device)\n",
    "\n",
    "print(histogpt(text, image).logits.size())"
   ]
  },
  {
   "cell_type": "code",
   "execution_count": null,
   "metadata": {
    "colab": {
     "base_uri": "https://localhost:8080/"
    },
    "executionInfo": {
     "elapsed": 17162,
     "status": "ok",
     "timestamp": 1710529125427,
     "user": {
      "displayName": "Haise Sasaki",
      "userId": "11501185577084592222"
     },
     "user_tz": -60
    },
    "id": "G-25l6iIb-cQ",
    "outputId": "9552772f-1038-42f3-e86a-0c4acbed20d6"
   },
   "outputs": [],
   "source": [
    "# generate text autoregressively\n",
    "from histogpt.helpers.inference import generate\n",
    "\n",
    "output = generate(\n",
    "    model=histogpt,\n",
    "    prompt=torch.randint(0, 42384, (1, 2)),\n",
    "    image=torch.rand(1, 2, 768),\n",
    "    length=256,\n",
    "    top_k=40,\n",
    "    top_p=0.95,\n",
    "    temp=0.7,\n",
    "    device=device\n",
    ")\n",
    "\n",
    "print(output.size())"
   ]
  },
  {
   "cell_type": "markdown",
   "metadata": {
    "id": "NPrf3xoxIBbg"
   },
   "source": [
    "# Generate reports from features"
   ]
  },
  {
   "cell_type": "code",
   "execution_count": null,
   "metadata": {
    "colab": {
     "base_uri": "https://localhost:8080/"
    },
    "executionInfo": {
     "elapsed": 4521,
     "status": "ok",
     "timestamp": 1710529208481,
     "user": {
      "displayName": "Haise Sasaki",
      "userId": "11501185577084592222"
     },
     "user_tz": -60
    },
    "id": "UnSmB2TRKef5",
    "outputId": "2f773b72-a198-48bc-cda9-2e7ae408f052"
   },
   "outputs": [],
   "source": [
    "# load model weights\n",
    "PATH = 'histogpt-1b-6k-pruned.pthe'\n",
    "state_dict = torch.load(PATH, map_location=device)\n",
    "histogpt.load_state_dict(state_dict, strict=True)"
   ]
  },
  {
   "cell_type": "code",
   "execution_count": null,
   "metadata": {
    "colab": {
     "base_uri": "https://localhost:8080/",
     "height": 220,
     "referenced_widgets": [
      "69994ba7ebb44c8c88c902b24bdd1729",
      "e6d7f7dad4614b4499e7cf36bf666881",
      "acfc62be72564844854bf5fe2dbf01e0",
      "3407d9384568451ab02c544b4d17cc9a",
      "8d39df6077fc4766a3e91ed3e020d8b9",
      "0bd68216c3ac42d7bbe9d35ed0d5d482",
      "d381b7efcdb94371bca00888c2aa0765",
      "7ab0e87561b14f4b93aafa3e44ab66fb",
      "72c96a86e8ed4400a4ade7833219c4ab",
      "1773ee49f470484dbbc9dd1ddfe6a00d",
      "a591b00962a342d6895c202c3c002db8",
      "d61e45fb8925404eb5c4803b1332d251",
      "fc7d2f3bb4e8487481b4fe78c565f4dd",
      "e837426c417b468298f7a0a5ae4a8019",
      "330b31f464084a19835ef6cfb39f1e06",
      "2de5a4c3c11944a2b6f1e6f71581d8f9",
      "f3973e4349214b5eb0fbfaf2b9666db6",
      "5772732b14a14a10a8cb3a004eb19e12",
      "ab6320d99cac4c7d958da070bbd39d94",
      "53dbf705246240349b62da8c8d1866af",
      "326c7c3b47d44e9bb7441f564668cae7",
      "2ab8a6c707984cdc90cf0722121acdc5",
      "59213337d28548cca60f77f9d18577a2",
      "fb26ef8a7cee4c7e942ec139c3ff94ff",
      "16b24b8db87e4351bbe13635d4cd1c9d",
      "033aa49a3b2e47e38cad85d93d4872f9",
      "38035319e77d4e2aa355dba38b2935e7",
      "a68246ee6e43439b93a012160e20f913",
      "b6405f6673ba4b49b2c5cf36ee46aeae",
      "24686774f76045499a508e5843c7f2df",
      "99bf96c11bb045ce9b3d72527de71cb6",
      "1eb1dd5272a548a2ace8c9fb3e832d4e",
      "20a3f2d73df442769b1eea9f843f0218"
     ]
    },
    "executionInfo": {
     "elapsed": 4001,
     "status": "ok",
     "timestamp": 1710529261976,
     "user": {
      "displayName": "Haise Sasaki",
      "userId": "11501185577084592222"
     },
     "user_tz": -60
    },
    "id": "D7j0Hx-BSlPN",
    "outputId": "fb2b0248-5b63-4869-8e22-c29145cf06b6"
   },
   "outputs": [],
   "source": [
    "# get text prompt and image features\n",
    "import h5py\n",
    "from transformers import BioGptTokenizer\n",
    "\n",
    "tokenizer = BioGptTokenizer.from_pretrained(\"microsoft/biogpt\")\n",
    "\n",
    "prompt = 'Final diagnosis:'\n",
    "prompt = torch.tensor(tokenizer.encode(prompt)).unsqueeze(0).to(device)\n",
    "\n",
    "with h5py.File('2023-03-06 23.51.44.h5e', 'r') as f:\n",
    "    features = f['feats'][:]\n",
    "    features = torch.tensor(features).unsqueeze(0).to(device)"
   ]
  },
  {
   "cell_type": "code",
   "execution_count": null,
   "metadata": {
    "colab": {
     "base_uri": "https://localhost:8080/"
    },
    "executionInfo": {
     "elapsed": 5633,
     "status": "ok",
     "timestamp": 1710529316190,
     "user": {
      "displayName": "Haise Sasaki",
      "userId": "11501185577084592222"
     },
     "user_tz": -60
    },
    "id": "qtLmP9WWfWUR",
    "outputId": "6f4c2aaf-a0eb-4239-ded0-cae0a3d76554"
   },
   "outputs": [],
   "source": [
    "# generate the pathology report\n",
    "output = generate(\n",
    "    model=histogpt,\n",
    "    prompt=prompt,\n",
    "    image=features,\n",
    "    length=256,\n",
    "    top_k=40,\n",
    "    top_p=0.95,\n",
    "    temp=0.7,\n",
    "    device=device\n",
    ")\n",
    "\n",
    "decoded = tokenizer.decode(output[0, 1:])\n",
    "print(decoded)"
   ]
  },
  {
   "cell_type": "markdown",
   "metadata": {
    "id": "Q00G2DXHJe0I"
   },
   "source": [
    "# Generate reports from images"
   ]
  },
  {
   "cell_type": "code",
   "execution_count": null,
   "metadata": {
    "colab": {
     "base_uri": "https://localhost:8080/"
    },
    "executionInfo": {
     "elapsed": 25743,
     "status": "ok",
     "timestamp": 1710529375729,
     "user": {
      "displayName": "Haise Sasaki",
      "userId": "11501185577084592222"
     },
     "user_tz": -60
    },
    "id": "1ziWydBgZxHc",
    "outputId": "81f9ce52-8afc-40a2-a178-4c232930bcdf"
   },
   "outputs": [],
   "source": [
    "# start patching and extracting features\n",
    "import os\n",
    "import shutil\n",
    "from histogpt.helpers.patching import main, PatchingConfigs\n",
    "\n",
    "try:\n",
    "  os.mkdir('slide_folder')\n",
    "  os.mkdir('save_folder')\n",
    "  shutil.move(\"2023-03-06 23.51.44.ndpie\", \"slide_folder/2023-03-06 23.51.44.ndpi\")\n",
    "except Exception:\n",
    "  pass\n",
    "\n",
    "configs = PatchingConfigs()\n",
    "configs.slide_path = 'slide_folder'\n",
    "configs.save_path = 'save_folder'\n",
    "configs.model_path = 'ctranspath.pthe'\n",
    "configs.patch_size = 256\n",
    "configs.white_thresh = [170, 185, 175]\n",
    "configs.edge_threshold = 2\n",
    "configs.resolution_in_mpp = 0.0\n",
    "configs.downscaling_factor = 4.0\n",
    "configs.batch_size = 16\n",
    "\n",
    "main(configs)"
   ]
  },
  {
   "cell_type": "code",
   "execution_count": null,
   "metadata": {
    "colab": {
     "base_uri": "https://localhost:8080/"
    },
    "executionInfo": {
     "elapsed": 318,
     "status": "ok",
     "timestamp": 1710529413080,
     "user": {
      "displayName": "Haise Sasaki",
      "userId": "11501185577084592222"
     },
     "user_tz": -60
    },
    "id": "RT2hcpv4luqr",
    "outputId": "d5758ea4-8f67-4aeb-d9f3-4fe3e3440c7a"
   },
   "outputs": [],
   "source": [
    "# having the feature vectors, we can proceed as above\n",
    "import h5py\n",
    "\n",
    "with h5py.File('save_folder/h5_files/256px_ctranspath_0.0mpp_4.0xdown_normal/2023-03-06 23.51.44.h5', 'r') as f:\n",
    "    features = f['feats'][:]\n",
    "    print(features.shape)"
   ]
  },
  {
   "cell_type": "code",
   "execution_count": null,
   "metadata": {
    "colab": {
     "base_uri": "https://localhost:8080/"
    },
    "executionInfo": {
     "elapsed": 859,
     "status": "ok",
     "timestamp": 1710529415278,
     "user": {
      "displayName": "Haise Sasaki",
      "userId": "11501185577084592222"
     },
     "user_tz": -60
    },
    "id": "oziUC8PzdaRB",
    "outputId": "65904588-7b2b-4246-ec8c-160ff67dbfe4"
   },
   "outputs": [],
   "source": [
    "with h5py.File('2023-03-06 23.51.44.h5e', 'r') as f:\n",
    "    features = f['feats'][:]\n",
    "    print(features.shape)"
   ]
  },
  {
   "cell_type": "markdown",
   "metadata": {
    "id": "gfBcbqC6Np3B"
   },
   "source": [
    "# Load the largest, most powerful model"
   ]
  },
  {
   "cell_type": "code",
   "execution_count": null,
   "metadata": {
    "colab": {
     "base_uri": "https://localhost:8080/",
     "height": 400
    },
    "executionInfo": {
     "elapsed": 44881,
     "status": "error",
     "timestamp": 1710529529928,
     "user": {
      "displayName": "Haise Sasaki",
      "userId": "11501185577084592222"
     },
     "user_tz": -60
    },
    "id": "0kPsg9MNNzxh",
    "outputId": "b2ece151-82d0-431e-8e17-830887e04576"
   },
   "outputs": [],
   "source": []
  }
 ],
 "metadata": {
  "accelerator": "GPU",
  "colab": {
   "gpuType": "V100",
   "provenance": []
  },
  "kernelspec": {
   "display_name": ".venv",
   "language": "python",
   "name": "python3"
  },
  "language_info": {
   "name": "python",
   "version": "3.10.16"
  },
  "widgets": {
   "application/vnd.jupyter.widget-state+json": {
    "033aa49a3b2e47e38cad85d93d4872f9": {
     "model_module": "@jupyter-widgets/controls",
     "model_module_version": "1.5.0",
     "model_name": "HTMLModel",
     "state": {
      "_dom_classes": [],
      "_model_module": "@jupyter-widgets/controls",
      "_model_module_version": "1.5.0",
      "_model_name": "HTMLModel",
      "_view_count": null,
      "_view_module": "@jupyter-widgets/controls",
      "_view_module_version": "1.5.0",
      "_view_name": "HTMLView",
      "description": "",
      "description_tooltip": null,
      "layout": "IPY_MODEL_1eb1dd5272a548a2ace8c9fb3e832d4e",
      "placeholder": "​",
      "style": "IPY_MODEL_20a3f2d73df442769b1eea9f843f0218",
      "value": " 595/595 [00:00&lt;00:00, 35.9kB/s]"
     }
    },
    "0bd68216c3ac42d7bbe9d35ed0d5d482": {
     "model_module": "@jupyter-widgets/base",
     "model_module_version": "1.2.0",
     "model_name": "LayoutModel",
     "state": {
      "_model_module": "@jupyter-widgets/base",
      "_model_module_version": "1.2.0",
      "_model_name": "LayoutModel",
      "_view_count": null,
      "_view_module": "@jupyter-widgets/base",
      "_view_module_version": "1.2.0",
      "_view_name": "LayoutView",
      "align_content": null,
      "align_items": null,
      "align_self": null,
      "border": null,
      "bottom": null,
      "display": null,
      "flex": null,
      "flex_flow": null,
      "grid_area": null,
      "grid_auto_columns": null,
      "grid_auto_flow": null,
      "grid_auto_rows": null,
      "grid_column": null,
      "grid_gap": null,
      "grid_row": null,
      "grid_template_areas": null,
      "grid_template_columns": null,
      "grid_template_rows": null,
      "height": null,
      "justify_content": null,
      "justify_items": null,
      "left": null,
      "margin": null,
      "max_height": null,
      "max_width": null,
      "min_height": null,
      "min_width": null,
      "object_fit": null,
      "object_position": null,
      "order": null,
      "overflow": null,
      "overflow_x": null,
      "overflow_y": null,
      "padding": null,
      "right": null,
      "top": null,
      "visibility": null,
      "width": null
     }
    },
    "16b24b8db87e4351bbe13635d4cd1c9d": {
     "model_module": "@jupyter-widgets/controls",
     "model_module_version": "1.5.0",
     "model_name": "FloatProgressModel",
     "state": {
      "_dom_classes": [],
      "_model_module": "@jupyter-widgets/controls",
      "_model_module_version": "1.5.0",
      "_model_name": "FloatProgressModel",
      "_view_count": null,
      "_view_module": "@jupyter-widgets/controls",
      "_view_module_version": "1.5.0",
      "_view_name": "ProgressView",
      "bar_style": "success",
      "description": "",
      "description_tooltip": null,
      "layout": "IPY_MODEL_24686774f76045499a508e5843c7f2df",
      "max": 595,
      "min": 0,
      "orientation": "horizontal",
      "style": "IPY_MODEL_99bf96c11bb045ce9b3d72527de71cb6",
      "value": 595
     }
    },
    "1773ee49f470484dbbc9dd1ddfe6a00d": {
     "model_module": "@jupyter-widgets/base",
     "model_module_version": "1.2.0",
     "model_name": "LayoutModel",
     "state": {
      "_model_module": "@jupyter-widgets/base",
      "_model_module_version": "1.2.0",
      "_model_name": "LayoutModel",
      "_view_count": null,
      "_view_module": "@jupyter-widgets/base",
      "_view_module_version": "1.2.0",
      "_view_name": "LayoutView",
      "align_content": null,
      "align_items": null,
      "align_self": null,
      "border": null,
      "bottom": null,
      "display": null,
      "flex": null,
      "flex_flow": null,
      "grid_area": null,
      "grid_auto_columns": null,
      "grid_auto_flow": null,
      "grid_auto_rows": null,
      "grid_column": null,
      "grid_gap": null,
      "grid_row": null,
      "grid_template_areas": null,
      "grid_template_columns": null,
      "grid_template_rows": null,
      "height": null,
      "justify_content": null,
      "justify_items": null,
      "left": null,
      "margin": null,
      "max_height": null,
      "max_width": null,
      "min_height": null,
      "min_width": null,
      "object_fit": null,
      "object_position": null,
      "order": null,
      "overflow": null,
      "overflow_x": null,
      "overflow_y": null,
      "padding": null,
      "right": null,
      "top": null,
      "visibility": null,
      "width": null
     }
    },
    "1eb1dd5272a548a2ace8c9fb3e832d4e": {
     "model_module": "@jupyter-widgets/base",
     "model_module_version": "1.2.0",
     "model_name": "LayoutModel",
     "state": {
      "_model_module": "@jupyter-widgets/base",
      "_model_module_version": "1.2.0",
      "_model_name": "LayoutModel",
      "_view_count": null,
      "_view_module": "@jupyter-widgets/base",
      "_view_module_version": "1.2.0",
      "_view_name": "LayoutView",
      "align_content": null,
      "align_items": null,
      "align_self": null,
      "border": null,
      "bottom": null,
      "display": null,
      "flex": null,
      "flex_flow": null,
      "grid_area": null,
      "grid_auto_columns": null,
      "grid_auto_flow": null,
      "grid_auto_rows": null,
      "grid_column": null,
      "grid_gap": null,
      "grid_row": null,
      "grid_template_areas": null,
      "grid_template_columns": null,
      "grid_template_rows": null,
      "height": null,
      "justify_content": null,
      "justify_items": null,
      "left": null,
      "margin": null,
      "max_height": null,
      "max_width": null,
      "min_height": null,
      "min_width": null,
      "object_fit": null,
      "object_position": null,
      "order": null,
      "overflow": null,
      "overflow_x": null,
      "overflow_y": null,
      "padding": null,
      "right": null,
      "top": null,
      "visibility": null,
      "width": null
     }
    },
    "20a3f2d73df442769b1eea9f843f0218": {
     "model_module": "@jupyter-widgets/controls",
     "model_module_version": "1.5.0",
     "model_name": "DescriptionStyleModel",
     "state": {
      "_model_module": "@jupyter-widgets/controls",
      "_model_module_version": "1.5.0",
      "_model_name": "DescriptionStyleModel",
      "_view_count": null,
      "_view_module": "@jupyter-widgets/base",
      "_view_module_version": "1.2.0",
      "_view_name": "StyleView",
      "description_width": ""
     }
    },
    "24686774f76045499a508e5843c7f2df": {
     "model_module": "@jupyter-widgets/base",
     "model_module_version": "1.2.0",
     "model_name": "LayoutModel",
     "state": {
      "_model_module": "@jupyter-widgets/base",
      "_model_module_version": "1.2.0",
      "_model_name": "LayoutModel",
      "_view_count": null,
      "_view_module": "@jupyter-widgets/base",
      "_view_module_version": "1.2.0",
      "_view_name": "LayoutView",
      "align_content": null,
      "align_items": null,
      "align_self": null,
      "border": null,
      "bottom": null,
      "display": null,
      "flex": null,
      "flex_flow": null,
      "grid_area": null,
      "grid_auto_columns": null,
      "grid_auto_flow": null,
      "grid_auto_rows": null,
      "grid_column": null,
      "grid_gap": null,
      "grid_row": null,
      "grid_template_areas": null,
      "grid_template_columns": null,
      "grid_template_rows": null,
      "height": null,
      "justify_content": null,
      "justify_items": null,
      "left": null,
      "margin": null,
      "max_height": null,
      "max_width": null,
      "min_height": null,
      "min_width": null,
      "object_fit": null,
      "object_position": null,
      "order": null,
      "overflow": null,
      "overflow_x": null,
      "overflow_y": null,
      "padding": null,
      "right": null,
      "top": null,
      "visibility": null,
      "width": null
     }
    },
    "2ab8a6c707984cdc90cf0722121acdc5": {
     "model_module": "@jupyter-widgets/controls",
     "model_module_version": "1.5.0",
     "model_name": "DescriptionStyleModel",
     "state": {
      "_model_module": "@jupyter-widgets/controls",
      "_model_module_version": "1.5.0",
      "_model_name": "DescriptionStyleModel",
      "_view_count": null,
      "_view_module": "@jupyter-widgets/base",
      "_view_module_version": "1.2.0",
      "_view_name": "StyleView",
      "description_width": ""
     }
    },
    "2de5a4c3c11944a2b6f1e6f71581d8f9": {
     "model_module": "@jupyter-widgets/base",
     "model_module_version": "1.2.0",
     "model_name": "LayoutModel",
     "state": {
      "_model_module": "@jupyter-widgets/base",
      "_model_module_version": "1.2.0",
      "_model_name": "LayoutModel",
      "_view_count": null,
      "_view_module": "@jupyter-widgets/base",
      "_view_module_version": "1.2.0",
      "_view_name": "LayoutView",
      "align_content": null,
      "align_items": null,
      "align_self": null,
      "border": null,
      "bottom": null,
      "display": null,
      "flex": null,
      "flex_flow": null,
      "grid_area": null,
      "grid_auto_columns": null,
      "grid_auto_flow": null,
      "grid_auto_rows": null,
      "grid_column": null,
      "grid_gap": null,
      "grid_row": null,
      "grid_template_areas": null,
      "grid_template_columns": null,
      "grid_template_rows": null,
      "height": null,
      "justify_content": null,
      "justify_items": null,
      "left": null,
      "margin": null,
      "max_height": null,
      "max_width": null,
      "min_height": null,
      "min_width": null,
      "object_fit": null,
      "object_position": null,
      "order": null,
      "overflow": null,
      "overflow_x": null,
      "overflow_y": null,
      "padding": null,
      "right": null,
      "top": null,
      "visibility": null,
      "width": null
     }
    },
    "326c7c3b47d44e9bb7441f564668cae7": {
     "model_module": "@jupyter-widgets/base",
     "model_module_version": "1.2.0",
     "model_name": "LayoutModel",
     "state": {
      "_model_module": "@jupyter-widgets/base",
      "_model_module_version": "1.2.0",
      "_model_name": "LayoutModel",
      "_view_count": null,
      "_view_module": "@jupyter-widgets/base",
      "_view_module_version": "1.2.0",
      "_view_name": "LayoutView",
      "align_content": null,
      "align_items": null,
      "align_self": null,
      "border": null,
      "bottom": null,
      "display": null,
      "flex": null,
      "flex_flow": null,
      "grid_area": null,
      "grid_auto_columns": null,
      "grid_auto_flow": null,
      "grid_auto_rows": null,
      "grid_column": null,
      "grid_gap": null,
      "grid_row": null,
      "grid_template_areas": null,
      "grid_template_columns": null,
      "grid_template_rows": null,
      "height": null,
      "justify_content": null,
      "justify_items": null,
      "left": null,
      "margin": null,
      "max_height": null,
      "max_width": null,
      "min_height": null,
      "min_width": null,
      "object_fit": null,
      "object_position": null,
      "order": null,
      "overflow": null,
      "overflow_x": null,
      "overflow_y": null,
      "padding": null,
      "right": null,
      "top": null,
      "visibility": null,
      "width": null
     }
    },
    "330b31f464084a19835ef6cfb39f1e06": {
     "model_module": "@jupyter-widgets/controls",
     "model_module_version": "1.5.0",
     "model_name": "HTMLModel",
     "state": {
      "_dom_classes": [],
      "_model_module": "@jupyter-widgets/controls",
      "_model_module_version": "1.5.0",
      "_model_name": "HTMLModel",
      "_view_count": null,
      "_view_module": "@jupyter-widgets/controls",
      "_view_module_version": "1.5.0",
      "_view_name": "HTMLView",
      "description": "",
      "description_tooltip": null,
      "layout": "IPY_MODEL_326c7c3b47d44e9bb7441f564668cae7",
      "placeholder": "​",
      "style": "IPY_MODEL_2ab8a6c707984cdc90cf0722121acdc5",
      "value": " 696k/696k [00:00&lt;00:00, 8.17MB/s]"
     }
    },
    "3407d9384568451ab02c544b4d17cc9a": {
     "model_module": "@jupyter-widgets/controls",
     "model_module_version": "1.5.0",
     "model_name": "HTMLModel",
     "state": {
      "_dom_classes": [],
      "_model_module": "@jupyter-widgets/controls",
      "_model_module_version": "1.5.0",
      "_model_name": "HTMLModel",
      "_view_count": null,
      "_view_module": "@jupyter-widgets/controls",
      "_view_module_version": "1.5.0",
      "_view_name": "HTMLView",
      "description": "",
      "description_tooltip": null,
      "layout": "IPY_MODEL_1773ee49f470484dbbc9dd1ddfe6a00d",
      "placeholder": "​",
      "style": "IPY_MODEL_a591b00962a342d6895c202c3c002db8",
      "value": " 927k/927k [00:00&lt;00:00, 2.82MB/s]"
     }
    },
    "38035319e77d4e2aa355dba38b2935e7": {
     "model_module": "@jupyter-widgets/base",
     "model_module_version": "1.2.0",
     "model_name": "LayoutModel",
     "state": {
      "_model_module": "@jupyter-widgets/base",
      "_model_module_version": "1.2.0",
      "_model_name": "LayoutModel",
      "_view_count": null,
      "_view_module": "@jupyter-widgets/base",
      "_view_module_version": "1.2.0",
      "_view_name": "LayoutView",
      "align_content": null,
      "align_items": null,
      "align_self": null,
      "border": null,
      "bottom": null,
      "display": null,
      "flex": null,
      "flex_flow": null,
      "grid_area": null,
      "grid_auto_columns": null,
      "grid_auto_flow": null,
      "grid_auto_rows": null,
      "grid_column": null,
      "grid_gap": null,
      "grid_row": null,
      "grid_template_areas": null,
      "grid_template_columns": null,
      "grid_template_rows": null,
      "height": null,
      "justify_content": null,
      "justify_items": null,
      "left": null,
      "margin": null,
      "max_height": null,
      "max_width": null,
      "min_height": null,
      "min_width": null,
      "object_fit": null,
      "object_position": null,
      "order": null,
      "overflow": null,
      "overflow_x": null,
      "overflow_y": null,
      "padding": null,
      "right": null,
      "top": null,
      "visibility": null,
      "width": null
     }
    },
    "53dbf705246240349b62da8c8d1866af": {
     "model_module": "@jupyter-widgets/controls",
     "model_module_version": "1.5.0",
     "model_name": "ProgressStyleModel",
     "state": {
      "_model_module": "@jupyter-widgets/controls",
      "_model_module_version": "1.5.0",
      "_model_name": "ProgressStyleModel",
      "_view_count": null,
      "_view_module": "@jupyter-widgets/base",
      "_view_module_version": "1.2.0",
      "_view_name": "StyleView",
      "bar_color": null,
      "description_width": ""
     }
    },
    "5772732b14a14a10a8cb3a004eb19e12": {
     "model_module": "@jupyter-widgets/controls",
     "model_module_version": "1.5.0",
     "model_name": "DescriptionStyleModel",
     "state": {
      "_model_module": "@jupyter-widgets/controls",
      "_model_module_version": "1.5.0",
      "_model_name": "DescriptionStyleModel",
      "_view_count": null,
      "_view_module": "@jupyter-widgets/base",
      "_view_module_version": "1.2.0",
      "_view_name": "StyleView",
      "description_width": ""
     }
    },
    "59213337d28548cca60f77f9d18577a2": {
     "model_module": "@jupyter-widgets/controls",
     "model_module_version": "1.5.0",
     "model_name": "HBoxModel",
     "state": {
      "_dom_classes": [],
      "_model_module": "@jupyter-widgets/controls",
      "_model_module_version": "1.5.0",
      "_model_name": "HBoxModel",
      "_view_count": null,
      "_view_module": "@jupyter-widgets/controls",
      "_view_module_version": "1.5.0",
      "_view_name": "HBoxView",
      "box_style": "",
      "children": [
       "IPY_MODEL_fb26ef8a7cee4c7e942ec139c3ff94ff",
       "IPY_MODEL_16b24b8db87e4351bbe13635d4cd1c9d",
       "IPY_MODEL_033aa49a3b2e47e38cad85d93d4872f9"
      ],
      "layout": "IPY_MODEL_38035319e77d4e2aa355dba38b2935e7"
     }
    },
    "69994ba7ebb44c8c88c902b24bdd1729": {
     "model_module": "@jupyter-widgets/controls",
     "model_module_version": "1.5.0",
     "model_name": "HBoxModel",
     "state": {
      "_dom_classes": [],
      "_model_module": "@jupyter-widgets/controls",
      "_model_module_version": "1.5.0",
      "_model_name": "HBoxModel",
      "_view_count": null,
      "_view_module": "@jupyter-widgets/controls",
      "_view_module_version": "1.5.0",
      "_view_name": "HBoxView",
      "box_style": "",
      "children": [
       "IPY_MODEL_e6d7f7dad4614b4499e7cf36bf666881",
       "IPY_MODEL_acfc62be72564844854bf5fe2dbf01e0",
       "IPY_MODEL_3407d9384568451ab02c544b4d17cc9a"
      ],
      "layout": "IPY_MODEL_8d39df6077fc4766a3e91ed3e020d8b9"
     }
    },
    "72c96a86e8ed4400a4ade7833219c4ab": {
     "model_module": "@jupyter-widgets/controls",
     "model_module_version": "1.5.0",
     "model_name": "ProgressStyleModel",
     "state": {
      "_model_module": "@jupyter-widgets/controls",
      "_model_module_version": "1.5.0",
      "_model_name": "ProgressStyleModel",
      "_view_count": null,
      "_view_module": "@jupyter-widgets/base",
      "_view_module_version": "1.2.0",
      "_view_name": "StyleView",
      "bar_color": null,
      "description_width": ""
     }
    },
    "7ab0e87561b14f4b93aafa3e44ab66fb": {
     "model_module": "@jupyter-widgets/base",
     "model_module_version": "1.2.0",
     "model_name": "LayoutModel",
     "state": {
      "_model_module": "@jupyter-widgets/base",
      "_model_module_version": "1.2.0",
      "_model_name": "LayoutModel",
      "_view_count": null,
      "_view_module": "@jupyter-widgets/base",
      "_view_module_version": "1.2.0",
      "_view_name": "LayoutView",
      "align_content": null,
      "align_items": null,
      "align_self": null,
      "border": null,
      "bottom": null,
      "display": null,
      "flex": null,
      "flex_flow": null,
      "grid_area": null,
      "grid_auto_columns": null,
      "grid_auto_flow": null,
      "grid_auto_rows": null,
      "grid_column": null,
      "grid_gap": null,
      "grid_row": null,
      "grid_template_areas": null,
      "grid_template_columns": null,
      "grid_template_rows": null,
      "height": null,
      "justify_content": null,
      "justify_items": null,
      "left": null,
      "margin": null,
      "max_height": null,
      "max_width": null,
      "min_height": null,
      "min_width": null,
      "object_fit": null,
      "object_position": null,
      "order": null,
      "overflow": null,
      "overflow_x": null,
      "overflow_y": null,
      "padding": null,
      "right": null,
      "top": null,
      "visibility": null,
      "width": null
     }
    },
    "8d39df6077fc4766a3e91ed3e020d8b9": {
     "model_module": "@jupyter-widgets/base",
     "model_module_version": "1.2.0",
     "model_name": "LayoutModel",
     "state": {
      "_model_module": "@jupyter-widgets/base",
      "_model_module_version": "1.2.0",
      "_model_name": "LayoutModel",
      "_view_count": null,
      "_view_module": "@jupyter-widgets/base",
      "_view_module_version": "1.2.0",
      "_view_name": "LayoutView",
      "align_content": null,
      "align_items": null,
      "align_self": null,
      "border": null,
      "bottom": null,
      "display": null,
      "flex": null,
      "flex_flow": null,
      "grid_area": null,
      "grid_auto_columns": null,
      "grid_auto_flow": null,
      "grid_auto_rows": null,
      "grid_column": null,
      "grid_gap": null,
      "grid_row": null,
      "grid_template_areas": null,
      "grid_template_columns": null,
      "grid_template_rows": null,
      "height": null,
      "justify_content": null,
      "justify_items": null,
      "left": null,
      "margin": null,
      "max_height": null,
      "max_width": null,
      "min_height": null,
      "min_width": null,
      "object_fit": null,
      "object_position": null,
      "order": null,
      "overflow": null,
      "overflow_x": null,
      "overflow_y": null,
      "padding": null,
      "right": null,
      "top": null,
      "visibility": null,
      "width": null
     }
    },
    "99bf96c11bb045ce9b3d72527de71cb6": {
     "model_module": "@jupyter-widgets/controls",
     "model_module_version": "1.5.0",
     "model_name": "ProgressStyleModel",
     "state": {
      "_model_module": "@jupyter-widgets/controls",
      "_model_module_version": "1.5.0",
      "_model_name": "ProgressStyleModel",
      "_view_count": null,
      "_view_module": "@jupyter-widgets/base",
      "_view_module_version": "1.2.0",
      "_view_name": "StyleView",
      "bar_color": null,
      "description_width": ""
     }
    },
    "a591b00962a342d6895c202c3c002db8": {
     "model_module": "@jupyter-widgets/controls",
     "model_module_version": "1.5.0",
     "model_name": "DescriptionStyleModel",
     "state": {
      "_model_module": "@jupyter-widgets/controls",
      "_model_module_version": "1.5.0",
      "_model_name": "DescriptionStyleModel",
      "_view_count": null,
      "_view_module": "@jupyter-widgets/base",
      "_view_module_version": "1.2.0",
      "_view_name": "StyleView",
      "description_width": ""
     }
    },
    "a68246ee6e43439b93a012160e20f913": {
     "model_module": "@jupyter-widgets/base",
     "model_module_version": "1.2.0",
     "model_name": "LayoutModel",
     "state": {
      "_model_module": "@jupyter-widgets/base",
      "_model_module_version": "1.2.0",
      "_model_name": "LayoutModel",
      "_view_count": null,
      "_view_module": "@jupyter-widgets/base",
      "_view_module_version": "1.2.0",
      "_view_name": "LayoutView",
      "align_content": null,
      "align_items": null,
      "align_self": null,
      "border": null,
      "bottom": null,
      "display": null,
      "flex": null,
      "flex_flow": null,
      "grid_area": null,
      "grid_auto_columns": null,
      "grid_auto_flow": null,
      "grid_auto_rows": null,
      "grid_column": null,
      "grid_gap": null,
      "grid_row": null,
      "grid_template_areas": null,
      "grid_template_columns": null,
      "grid_template_rows": null,
      "height": null,
      "justify_content": null,
      "justify_items": null,
      "left": null,
      "margin": null,
      "max_height": null,
      "max_width": null,
      "min_height": null,
      "min_width": null,
      "object_fit": null,
      "object_position": null,
      "order": null,
      "overflow": null,
      "overflow_x": null,
      "overflow_y": null,
      "padding": null,
      "right": null,
      "top": null,
      "visibility": null,
      "width": null
     }
    },
    "ab6320d99cac4c7d958da070bbd39d94": {
     "model_module": "@jupyter-widgets/base",
     "model_module_version": "1.2.0",
     "model_name": "LayoutModel",
     "state": {
      "_model_module": "@jupyter-widgets/base",
      "_model_module_version": "1.2.0",
      "_model_name": "LayoutModel",
      "_view_count": null,
      "_view_module": "@jupyter-widgets/base",
      "_view_module_version": "1.2.0",
      "_view_name": "LayoutView",
      "align_content": null,
      "align_items": null,
      "align_self": null,
      "border": null,
      "bottom": null,
      "display": null,
      "flex": null,
      "flex_flow": null,
      "grid_area": null,
      "grid_auto_columns": null,
      "grid_auto_flow": null,
      "grid_auto_rows": null,
      "grid_column": null,
      "grid_gap": null,
      "grid_row": null,
      "grid_template_areas": null,
      "grid_template_columns": null,
      "grid_template_rows": null,
      "height": null,
      "justify_content": null,
      "justify_items": null,
      "left": null,
      "margin": null,
      "max_height": null,
      "max_width": null,
      "min_height": null,
      "min_width": null,
      "object_fit": null,
      "object_position": null,
      "order": null,
      "overflow": null,
      "overflow_x": null,
      "overflow_y": null,
      "padding": null,
      "right": null,
      "top": null,
      "visibility": null,
      "width": null
     }
    },
    "acfc62be72564844854bf5fe2dbf01e0": {
     "model_module": "@jupyter-widgets/controls",
     "model_module_version": "1.5.0",
     "model_name": "FloatProgressModel",
     "state": {
      "_dom_classes": [],
      "_model_module": "@jupyter-widgets/controls",
      "_model_module_version": "1.5.0",
      "_model_name": "FloatProgressModel",
      "_view_count": null,
      "_view_module": "@jupyter-widgets/controls",
      "_view_module_version": "1.5.0",
      "_view_name": "ProgressView",
      "bar_style": "success",
      "description": "",
      "description_tooltip": null,
      "layout": "IPY_MODEL_7ab0e87561b14f4b93aafa3e44ab66fb",
      "max": 927059,
      "min": 0,
      "orientation": "horizontal",
      "style": "IPY_MODEL_72c96a86e8ed4400a4ade7833219c4ab",
      "value": 927059
     }
    },
    "b6405f6673ba4b49b2c5cf36ee46aeae": {
     "model_module": "@jupyter-widgets/controls",
     "model_module_version": "1.5.0",
     "model_name": "DescriptionStyleModel",
     "state": {
      "_model_module": "@jupyter-widgets/controls",
      "_model_module_version": "1.5.0",
      "_model_name": "DescriptionStyleModel",
      "_view_count": null,
      "_view_module": "@jupyter-widgets/base",
      "_view_module_version": "1.2.0",
      "_view_name": "StyleView",
      "description_width": ""
     }
    },
    "d381b7efcdb94371bca00888c2aa0765": {
     "model_module": "@jupyter-widgets/controls",
     "model_module_version": "1.5.0",
     "model_name": "DescriptionStyleModel",
     "state": {
      "_model_module": "@jupyter-widgets/controls",
      "_model_module_version": "1.5.0",
      "_model_name": "DescriptionStyleModel",
      "_view_count": null,
      "_view_module": "@jupyter-widgets/base",
      "_view_module_version": "1.2.0",
      "_view_name": "StyleView",
      "description_width": ""
     }
    },
    "d61e45fb8925404eb5c4803b1332d251": {
     "model_module": "@jupyter-widgets/controls",
     "model_module_version": "1.5.0",
     "model_name": "HBoxModel",
     "state": {
      "_dom_classes": [],
      "_model_module": "@jupyter-widgets/controls",
      "_model_module_version": "1.5.0",
      "_model_name": "HBoxModel",
      "_view_count": null,
      "_view_module": "@jupyter-widgets/controls",
      "_view_module_version": "1.5.0",
      "_view_name": "HBoxView",
      "box_style": "",
      "children": [
       "IPY_MODEL_fc7d2f3bb4e8487481b4fe78c565f4dd",
       "IPY_MODEL_e837426c417b468298f7a0a5ae4a8019",
       "IPY_MODEL_330b31f464084a19835ef6cfb39f1e06"
      ],
      "layout": "IPY_MODEL_2de5a4c3c11944a2b6f1e6f71581d8f9"
     }
    },
    "e6d7f7dad4614b4499e7cf36bf666881": {
     "model_module": "@jupyter-widgets/controls",
     "model_module_version": "1.5.0",
     "model_name": "HTMLModel",
     "state": {
      "_dom_classes": [],
      "_model_module": "@jupyter-widgets/controls",
      "_model_module_version": "1.5.0",
      "_model_name": "HTMLModel",
      "_view_count": null,
      "_view_module": "@jupyter-widgets/controls",
      "_view_module_version": "1.5.0",
      "_view_name": "HTMLView",
      "description": "",
      "description_tooltip": null,
      "layout": "IPY_MODEL_0bd68216c3ac42d7bbe9d35ed0d5d482",
      "placeholder": "​",
      "style": "IPY_MODEL_d381b7efcdb94371bca00888c2aa0765",
      "value": "vocab.json: 100%"
     }
    },
    "e837426c417b468298f7a0a5ae4a8019": {
     "model_module": "@jupyter-widgets/controls",
     "model_module_version": "1.5.0",
     "model_name": "FloatProgressModel",
     "state": {
      "_dom_classes": [],
      "_model_module": "@jupyter-widgets/controls",
      "_model_module_version": "1.5.0",
      "_model_name": "FloatProgressModel",
      "_view_count": null,
      "_view_module": "@jupyter-widgets/controls",
      "_view_module_version": "1.5.0",
      "_view_name": "ProgressView",
      "bar_style": "success",
      "description": "",
      "description_tooltip": null,
      "layout": "IPY_MODEL_ab6320d99cac4c7d958da070bbd39d94",
      "max": 696298,
      "min": 0,
      "orientation": "horizontal",
      "style": "IPY_MODEL_53dbf705246240349b62da8c8d1866af",
      "value": 696298
     }
    },
    "f3973e4349214b5eb0fbfaf2b9666db6": {
     "model_module": "@jupyter-widgets/base",
     "model_module_version": "1.2.0",
     "model_name": "LayoutModel",
     "state": {
      "_model_module": "@jupyter-widgets/base",
      "_model_module_version": "1.2.0",
      "_model_name": "LayoutModel",
      "_view_count": null,
      "_view_module": "@jupyter-widgets/base",
      "_view_module_version": "1.2.0",
      "_view_name": "LayoutView",
      "align_content": null,
      "align_items": null,
      "align_self": null,
      "border": null,
      "bottom": null,
      "display": null,
      "flex": null,
      "flex_flow": null,
      "grid_area": null,
      "grid_auto_columns": null,
      "grid_auto_flow": null,
      "grid_auto_rows": null,
      "grid_column": null,
      "grid_gap": null,
      "grid_row": null,
      "grid_template_areas": null,
      "grid_template_columns": null,
      "grid_template_rows": null,
      "height": null,
      "justify_content": null,
      "justify_items": null,
      "left": null,
      "margin": null,
      "max_height": null,
      "max_width": null,
      "min_height": null,
      "min_width": null,
      "object_fit": null,
      "object_position": null,
      "order": null,
      "overflow": null,
      "overflow_x": null,
      "overflow_y": null,
      "padding": null,
      "right": null,
      "top": null,
      "visibility": null,
      "width": null
     }
    },
    "fb26ef8a7cee4c7e942ec139c3ff94ff": {
     "model_module": "@jupyter-widgets/controls",
     "model_module_version": "1.5.0",
     "model_name": "HTMLModel",
     "state": {
      "_dom_classes": [],
      "_model_module": "@jupyter-widgets/controls",
      "_model_module_version": "1.5.0",
      "_model_name": "HTMLModel",
      "_view_count": null,
      "_view_module": "@jupyter-widgets/controls",
      "_view_module_version": "1.5.0",
      "_view_name": "HTMLView",
      "description": "",
      "description_tooltip": null,
      "layout": "IPY_MODEL_a68246ee6e43439b93a012160e20f913",
      "placeholder": "​",
      "style": "IPY_MODEL_b6405f6673ba4b49b2c5cf36ee46aeae",
      "value": "config.json: 100%"
     }
    },
    "fc7d2f3bb4e8487481b4fe78c565f4dd": {
     "model_module": "@jupyter-widgets/controls",
     "model_module_version": "1.5.0",
     "model_name": "HTMLModel",
     "state": {
      "_dom_classes": [],
      "_model_module": "@jupyter-widgets/controls",
      "_model_module_version": "1.5.0",
      "_model_name": "HTMLModel",
      "_view_count": null,
      "_view_module": "@jupyter-widgets/controls",
      "_view_module_version": "1.5.0",
      "_view_name": "HTMLView",
      "description": "",
      "description_tooltip": null,
      "layout": "IPY_MODEL_f3973e4349214b5eb0fbfaf2b9666db6",
      "placeholder": "​",
      "style": "IPY_MODEL_5772732b14a14a10a8cb3a004eb19e12",
      "value": "merges.txt: 100%"
     }
    }
   }
  }
 },
 "nbformat": 4,
 "nbformat_minor": 0
}
